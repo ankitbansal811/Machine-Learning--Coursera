{
 "cells": [
  {
   "cell_type": "code",
   "execution_count": 1,
   "metadata": {},
   "outputs": [
    {
     "name": "stdout",
     "output_type": "stream",
     "text": [
      "starting\n"
     ]
    }
   ],
   "source": [
    "import numpy\n",
    "import matplotlib\n",
    "import csv\n",
    "print(\"starting\")"
   ]
  },
  {
   "cell_type": "code",
   "execution_count": 2,
   "metadata": {},
   "outputs": [
    {
     "name": "stdout",
     "output_type": "stream",
     "text": [
      "warm up (5X5) matix: \n",
      " [[1. 0. 0. 0. 0.]\n",
      " [0. 1. 0. 0. 0.]\n",
      " [0. 0. 1. 0. 0.]\n",
      " [0. 0. 0. 1. 0.]\n",
      " [0. 0. 0. 0. 1.]]\n"
     ]
    }
   ],
   "source": [
    "def WarmUpExercise():\n",
    "    a = numpy.identity(5)\n",
    "    return a\n",
    "\n",
    "print(\"warm up (5X5) matix: \\n\", WarmUpExercise())"
   ]
  },
  {
   "cell_type": "code",
   "execution_count": 3,
   "metadata": {},
   "outputs": [],
   "source": [
    "import pandas as pd "
   ]
  },
  {
   "cell_type": "code",
   "execution_count": 4,
   "metadata": {},
   "outputs": [],
   "source": [
    "data = pd.read_csv('ex1data1.txt', sep=\",\", header=None)"
   ]
  },
  {
   "cell_type": "code",
   "execution_count": 5,
   "metadata": {
    "collapsed": true
   },
   "outputs": [
    {
     "data": {
      "text/plain": [
       "0     17.59200\n",
       "1      9.13020\n",
       "2     13.66200\n",
       "3     11.85400\n",
       "4      6.82330\n",
       "5     11.88600\n",
       "6      4.34830\n",
       "7     12.00000\n",
       "8      6.59870\n",
       "9      3.81660\n",
       "10     3.25220\n",
       "11    15.50500\n",
       "12     3.15510\n",
       "13     7.22580\n",
       "14     0.71618\n",
       "15     3.51290\n",
       "16     5.30480\n",
       "17     0.56077\n",
       "18     3.65180\n",
       "19     5.38930\n",
       "20     3.13860\n",
       "21    21.76700\n",
       "22     4.26300\n",
       "23     5.18750\n",
       "24     3.08250\n",
       "25    22.63800\n",
       "26    13.50100\n",
       "27     7.04670\n",
       "28    14.69200\n",
       "29    24.14700\n",
       "        ...   \n",
       "67     7.77540\n",
       "68     1.01730\n",
       "69    20.99200\n",
       "70     6.67990\n",
       "71     4.02590\n",
       "72     1.27840\n",
       "73     3.34110\n",
       "74    -2.68070\n",
       "75     0.29678\n",
       "76     3.88450\n",
       "77     5.70140\n",
       "78     6.75260\n",
       "79     2.05760\n",
       "80     0.47953\n",
       "81     0.20421\n",
       "82     0.67861\n",
       "83     7.54350\n",
       "84     5.34360\n",
       "85     4.24150\n",
       "86     6.79810\n",
       "87     0.92695\n",
       "88     0.15200\n",
       "89     2.82140\n",
       "90     1.84510\n",
       "91     4.29590\n",
       "92     7.20290\n",
       "93     1.98690\n",
       "94     0.14454\n",
       "95     9.05510\n",
       "96     0.61705\n",
       "Name: 1, Length: 97, dtype: float64"
      ]
     },
     "execution_count": 5,
     "metadata": {},
     "output_type": "execute_result"
    }
   ],
   "source": [
    "data[1]"
   ]
  },
  {
   "cell_type": "code",
   "execution_count": 6,
   "metadata": {},
   "outputs": [
    {
     "data": {
      "text/plain": [
       "Text(0.5,0,'x')"
      ]
     },
     "execution_count": 6,
     "metadata": {},
     "output_type": "execute_result"
    }
   ],
   "source": [
    "import matplotlib as mat\n",
    "from matplotlib import pyplot as plt\n",
    "plt.plot(data[0],data[1],'ro',ms = 5)\n",
    "plt.xlabel(\"x\")"
   ]
  },
  {
   "cell_type": "code",
   "execution_count": 7,
   "metadata": {
    "collapsed": true
   },
   "outputs": [
    {
     "data": {
      "text/plain": [
       "0      6.1101\n",
       "1      5.5277\n",
       "2      8.5186\n",
       "3      7.0032\n",
       "4      5.8598\n",
       "5      8.3829\n",
       "6      7.4764\n",
       "7      8.5781\n",
       "8      6.4862\n",
       "9      5.0546\n",
       "10     5.7107\n",
       "11    14.1640\n",
       "12     5.7340\n",
       "13     8.4084\n",
       "14     5.6407\n",
       "15     5.3794\n",
       "16     6.3654\n",
       "17     5.1301\n",
       "18     6.4296\n",
       "19     7.0708\n",
       "20     6.1891\n",
       "21    20.2700\n",
       "22     5.4901\n",
       "23     6.3261\n",
       "24     5.5649\n",
       "25    18.9450\n",
       "26    12.8280\n",
       "27    10.9570\n",
       "28    13.1760\n",
       "29    22.2030\n",
       "       ...   \n",
       "67    10.2360\n",
       "68     5.4994\n",
       "69    20.3410\n",
       "70    10.1360\n",
       "71     7.3345\n",
       "72     6.0062\n",
       "73     7.2259\n",
       "74     5.0269\n",
       "75     6.5479\n",
       "76     7.5386\n",
       "77     5.0365\n",
       "78    10.2740\n",
       "79     5.1077\n",
       "80     5.7292\n",
       "81     5.1884\n",
       "82     6.3557\n",
       "83     9.7687\n",
       "84     6.5159\n",
       "85     8.5172\n",
       "86     9.1802\n",
       "87     6.0020\n",
       "88     5.5204\n",
       "89     5.0594\n",
       "90     5.7077\n",
       "91     7.6366\n",
       "92     5.8707\n",
       "93     5.3054\n",
       "94     8.2934\n",
       "95    13.3940\n",
       "96     5.4369\n",
       "Name: 0, Length: 97, dtype: float64"
      ]
     },
     "execution_count": 7,
     "metadata": {},
     "output_type": "execute_result"
    }
   ],
   "source": [
    "theta = [0,0]\n",
    "x = data[:][0]\n",
    "x"
   ]
  }
 ],
 "metadata": {
  "kernelspec": {
   "display_name": "Python 3",
   "language": "python",
   "name": "python3"
  },
  "language_info": {
   "codemirror_mode": {
    "name": "ipython",
    "version": 3
   },
   "file_extension": ".py",
   "mimetype": "text/x-python",
   "name": "python",
   "nbconvert_exporter": "python",
   "pygments_lexer": "ipython3",
   "version": "3.6.5"
  }
 },
 "nbformat": 4,
 "nbformat_minor": 2
}
