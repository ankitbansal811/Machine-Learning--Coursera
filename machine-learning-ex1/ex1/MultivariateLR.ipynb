{
 "cells": [
  {
   "cell_type": "code",
   "execution_count": 1,
   "metadata": {},
   "outputs": [],
   "source": [
    "import numpy as np\n",
    "import pandas as pd\n",
    "import matplotlib.pyplot as plt\n",
    "import statistics as st\n",
    "\n",
    "from sklearn.linear_model import LinearRegression as LR"
   ]
  },
  {
   "cell_type": "code",
   "execution_count": 2,
   "metadata": {},
   "outputs": [],
   "source": [
    "data = np.loadtxt('ex1data2.txt',delimiter = ',')\n",
    "X = np.c_[np.ones(data.shape[0]),data[:,0:2]]\n",
    "y = np.c_[data[:,2]]"
   ]
  },
  {
   "cell_type": "code",
   "execution_count": 3,
   "metadata": {},
   "outputs": [],
   "source": [
    "def Normalization(X):\n",
    "    columns = X.shape[1]\n",
    "    # Par store mu and std for each column\n",
    "    par = np.zeros([2,columns])\n",
    "    par[1,0] = 1 #std for first column is 1 to avoid X/0 cases\n",
    "    for col in range(1,columns):\n",
    "        x = X[:,col]\n",
    "        par[0,col] = st.mean(x)\n",
    "        par[1,col] = st.pstdev(x)\n",
    "        X[:,col] = [(x-par[0,col])/par[1,col] for x in x]\n",
    "    \n",
    "    return X, par\n",
    "\n",
    "X,par = Normalization(X)"
   ]
  },
  {
   "cell_type": "code",
   "execution_count": 4,
   "metadata": {},
   "outputs": [],
   "source": [
    "def ComputeCost(X,y,theta =np.zeros([X.shape[1],1])):\n",
    "    m = y.size\n",
    "    \n",
    "    Cost = 1/2/m*sum((X.dot(theta)-y)**2)\n",
    "    return Cost"
   ]
  },
  {
   "cell_type": "code",
   "execution_count": 5,
   "metadata": {},
   "outputs": [
    {
     "data": {
      "text/plain": [
       "array([6.55915481e+10])"
      ]
     },
     "execution_count": 5,
     "metadata": {},
     "output_type": "execute_result"
    }
   ],
   "source": [
    "ComputeCost(X,y)"
   ]
  },
  {
   "cell_type": "code",
   "execution_count": 6,
   "metadata": {},
   "outputs": [],
   "source": [
    "def gradientDescent(X,y,theta = np.zeros([X.shape[1],1]), alpha = 0.1, num_iter = 200):\n",
    "    m = y.size\n",
    "    Cost_hist = np.zeros([num_iter,1])\n",
    "    \n",
    "    for _ in range(num_iter):\n",
    "        theta = theta - alpha/m*(X.T.dot(X.dot(theta)-y))\n",
    "        Cost_hist[_] = ComputeCost(X,y,theta)\n",
    "    \n",
    "    return theta, Cost_hist\n",
    "        "
   ]
  },
  {
   "cell_type": "code",
   "execution_count": 7,
   "metadata": {},
   "outputs": [
    {
     "data": {
      "image/png": "[encoded data removed]",
      "text/plain": [
       "<Figure size 432x288 with 1 Axes>"
      ]
     },
     "metadata": {},
     "output_type": "display_data"
    }
   ],
   "source": [
    "theta, Cost_hist = gradientDescent(X,y)\n",
    "plt.plot(Cost_hist); plt.xlabel('Interations'); plt.ylabel('Cost');"
   ]
  },
  {
   "cell_type": "code",
   "execution_count": 8,
   "metadata": {},
   "outputs": [
    {
     "name": "stdout",
     "output_type": "stream",
     "text": [
      "For a flat with area: 1000 and 2 BR, Price: [211330.52941228]\n"
     ]
    }
   ],
   "source": [
    "# Prdict Value for a house \n",
    "area, BR = 1000, 2\n",
    "x = [1, area, BR]\n",
    "x = (x - par[0,:])/par[1,:]\n",
    "price = x.dot(theta)\n",
    "print('For a flat with area:', area, 'and', BR, 'BR, Price:', price)"
   ]
  },
  {
   "cell_type": "code",
   "execution_count": 9,
   "metadata": {},
   "outputs": [],
   "source": [
    "# Normal Equation\n",
    "theta1 = np.linalg.inv(X.T.dot(X)).dot(X.T).dot(y)\n",
    "\n",
    "# LR library\n",
    "regr = LR(); regr.fit(X[:,1:3],y);\n",
    "theta2 = np.c_[(regr.intercept_.reshape(-1,1),regr.coef_)].T\n",
    "\n",
    "Cost, Cost_NE, Cost_LR = ComputeCost(X,y,theta),ComputeCost(X,y,theta1),ComputeCost(X,y,theta2)\n",
    "\n"
   ]
  },
  {
   "cell_type": "code",
   "execution_count": 10,
   "metadata": {},
   "outputs": [
    {
     "name": "stdout",
     "output_type": "stream",
     "text": [
      "Theta from GD:  [340412.7 109440.6  -6571.2] Cost: [2.04328007e+09]\n",
      "Normal Theta: [340412.7 109447.8  -6578.4] Cost: [2.04328005e+09]\n",
      "LR Theta: [340412.7 109447.8  -6578.4] Cost: [2.04328005e+09]\n"
     ]
    }
   ],
   "source": [
    "print('Theta from GD: ', np.round_(theta.ravel(),1),'Cost:',Cost)\n",
    "print('Normal Theta:' ,np.round_(theta1.ravel(),1),'Cost:',Cost_NE)\n",
    "print('LR Theta:' ,np.round_(theta2.ravel(),1),'Cost:',Cost_LR)"
   ]
  }
 ],
 "metadata": {
  "kernelspec": {
   "display_name": "Python 3",
   "language": "python",
   "name": "python3"
  },
  "language_info": {
   "codemirror_mode": {
    "name": "ipython",
    "version": 3
   },
   "file_extension": ".py",
   "mimetype": "text/x-python",
   "name": "python",
   "nbconvert_exporter": "python",
   "pygments_lexer": "ipython3",
   "version": "3.6.5"
  }
 },
 "nbformat": 4,
 "nbformat_minor": 2
}
