{
 "cells": [
  {
   "cell_type": "code",
   "execution_count": 1,
   "metadata": {},
   "outputs": [],
   "source": [
    "import numpy as np\n",
    "import scipy.io\n",
    "import matplotlib.pyplot as plt\n",
    "import matplotlib.image as mpimg\n",
    "from scipy.optimize import minimize\n",
    "from sklearn.linear_model import LogisticRegression\n",
    "\n",
    "mat = scipy.io.loadmat('ex3data1.mat')\n",
    "X = mat['X']\n",
    "y = mat['y']\n",
    "num_labels = len(np.unique(y))"
   ]
  },
  {
   "cell_type": "code",
   "execution_count": 2,
   "metadata": {},
   "outputs": [],
   "source": [
    "def displayData(x):\n",
    "    \n",
    "    if len(x.shape) ==1: num_image,pixels = 1, x.shape[0]\n",
    "    else:    num_image, pixels = x.shape[0], x.shape[1]\n",
    "    \n",
    "    pix_square = int(np.sqrt(pixels))\n",
    "    num_row = int(np.floor(np.sqrt(num_image)))\n",
    "    num_col = int(np.ceil(num_image/num_row))\n",
    "    \n",
    "    pad = 1;\n",
    "    img = formatPixels(x, num_row, num_col,pix_square,num_image)\n",
    "    plt.figure(figsize=(num_row,num_col))\n",
    "    plt.imshow(img,cmap = \"gray\");\n",
    "    plt.axis('off');\n",
    "    return pixels\n",
    "\n",
    "def formatPixels(x, num_row, num_col,pix_square,num_image):\n",
    "    pad =1;\n",
    "    pix_col = pad + num_col*(pix_square + pad);\n",
    "    pix_row = pad + num_row*(pix_square + pad);\n",
    "    num = 0;\n",
    "    img = -1*np.ones([pix_row,pix_col])\n",
    "    for i in range(num_row): \n",
    "        for j in range(num_col):\n",
    "            c = pad*(i+1) + i*pix_square\n",
    "            img[c:c+pix_square,(pad*(j+1) + j*pix_square)+np.arange(pix_square)] = x[num,:].reshape([pix_square,pix_square]).T\n",
    "            num += 1\n",
    "            if num>=num_image: break;\n",
    "    return img"
   ]
  },
  {
   "cell_type": "code",
   "execution_count": 3,
   "metadata": {
    "scrolled": true
   },
   "outputs": [
    {
     "data": {
      "text/plain": [
       "400"
      ]
     },
     "execution_count": 3,
     "metadata": {},
     "output_type": "execute_result"
    },
    {
     "data": {
      "image/png": "[encoded data removed]",
      "text/plain": [
       "<Figure size 144x144 with 1 Axes>"
      ]
     },
     "metadata": {},
     "output_type": "display_data"
    }
   ],
   "source": [
    "x = X[np.random.randint(y.size, size=4),:]\n",
    "displayData(x)"
   ]
  },
  {
   "cell_type": "code",
   "execution_count": 4,
   "metadata": {},
   "outputs": [],
   "source": [
    "def sigmoid(z):\n",
    "    return(1 / (1 + np.exp(-z)))\n",
    "\n",
    "def costFunction(theta,reg, X, y):\n",
    "    m = y.size\n",
    "    h = sigmoid(X.dot(theta))\n",
    "    \n",
    "    J = -1*(1/m)*(np.log(h).T.dot(y)+np.log(1-h).T.dot(1-y))\n",
    "    J = J + reg/2/m*np.sum(np.square(theta[1:]))\n",
    "    #print(J)\n",
    "    if np.isnan(J[0]):\n",
    "        return(np.inf)\n",
    "    return(J[0])\n",
    "\n",
    "def gradient(theta, reg,X, y):\n",
    "    m = y.size\n",
    "    h = sigmoid(X.dot(theta.reshape(-1,1))) \n",
    "    grad =(1/m)*X.T.dot(h-y) + reg/m*np.r_[[[0]],theta[1:].reshape(-1,1)]\n",
    "\n",
    "    return(grad.flatten())"
   ]
  },
  {
   "cell_type": "code",
   "execution_count": 16,
   "metadata": {},
   "outputs": [
    {
     "name": "stdout",
     "output_type": "stream",
     "text": [
      "Cost: \n",
      " [0.69314718]\n",
      "Grad shape: \n",
      " (402,)\n"
     ]
    }
   ],
   "source": [
    "X = np.c_[np.ones([y.size,1]),X]\n",
    "X.shape\n",
    "initial_theta = np.zeros([X.shape[1],1])\n",
    "\n",
    "cost = costFunction(initial_theta,1, X, y==1)\n",
    "grad = gradient(initial_theta,1, X, y)\n",
    "\n",
    "print('Cost: \\n', cost)\n",
    "print('Grad shape: \\n', grad.shape)"
   ]
  },
  {
   "cell_type": "code",
   "execution_count": 6,
   "metadata": {},
   "outputs": [],
   "source": [
    "def oneVSall(X, y, num_labels, reg):\n",
    "    initial_theta = np.zeros((X.shape[1],1))\n",
    "    all_theta = np.zeros([num_labels,X.shape[1]])\n",
    "    \n",
    "    for i in np.arange(1, num_labels+1):\n",
    "        res = minimize(costFunction, initial_theta, args=(reg, X, (y==i)*1), method=None, jac=gradient, options={'maxiter':50})\n",
    "        theta = res.x;\n",
    "        all_theta[i-1,:] = theta\n",
    "        \n",
    "    return all_theta\n",
    "    "
   ]
  },
  {
   "cell_type": "code",
   "execution_count": 7,
   "metadata": {},
   "outputs": [],
   "source": [
    "all_theta = oneVSall(X, y, num_labels, 0.1)"
   ]
  },
  {
   "cell_type": "code",
   "execution_count": 8,
   "metadata": {
    "scrolled": true
   },
   "outputs": [
    {
     "name": "stdout",
     "output_type": "stream",
     "text": [
      "accuracy:93.24\n"
     ]
    }
   ],
   "source": [
    "p = np.argmax(X.dot(all_theta.T),1).reshape([-1,1])\n",
    "print('accuracy:{}'.format(np.mean(p+1==y)*100))"
   ]
  },
  {
   "cell_type": "markdown",
   "metadata": {},
   "source": [
    "### Multiclass logistics regression"
   ]
  },
  {
   "cell_type": "code",
   "execution_count": 9,
   "metadata": {},
   "outputs": [
    {
     "data": {
      "text/plain": [
       "LogisticRegression(C=10, class_weight=None, dual=False, fit_intercept=True,\n",
       "          intercept_scaling=1, max_iter=100, multi_class='ovr', n_jobs=1,\n",
       "          penalty='l2', random_state=None, solver='liblinear', tol=0.0001,\n",
       "          verbose=0, warm_start=False)"
      ]
     },
     "execution_count": 9,
     "metadata": {},
     "output_type": "execute_result"
    }
   ],
   "source": [
    "clf = LogisticRegression(C=10, penalty='l2', solver='liblinear')\n",
    "# Scikit-learn fits intercept automatically, so we exclude first column with 'ones' from X when fitting.\n",
    "clf.fit(X[:,1:],y.ravel())"
   ]
  },
  {
   "cell_type": "code",
   "execution_count": 10,
   "metadata": {},
   "outputs": [
    {
     "name": "stdout",
     "output_type": "stream",
     "text": [
      "Training set accuracy: 96.5 %\n"
     ]
    }
   ],
   "source": [
    "pred2 = clf.predict(X[:,1:])\n",
    "print('Training set accuracy: {} %'.format(np.mean(pred2 == y.ravel())*100))"
   ]
  },
  {
   "cell_type": "markdown",
   "metadata": {},
   "source": [
    "### Neural Networks"
   ]
  },
  {
   "cell_type": "code",
   "execution_count": 11,
   "metadata": {},
   "outputs": [],
   "source": [
    "mat = scipy.io.loadmat('ex3weights.mat')\n",
    "theta1 = mat['Theta1']\n",
    "theta2 = mat['Theta2']\n",
    "num_labels = len(np.unique(y))"
   ]
  },
  {
   "cell_type": "code",
   "execution_count": 12,
   "metadata": {},
   "outputs": [
    {
     "data": {
      "text/plain": [
       "(10, 26)"
      ]
     },
     "execution_count": 12,
     "metadata": {},
     "output_type": "execute_result"
    }
   ],
   "source": [
    "theta2.shape"
   ]
  },
  {
   "cell_type": "code",
   "execution_count": 13,
   "metadata": {},
   "outputs": [],
   "source": [
    "def predictNN(theta1, theta2, X):\n",
    "    z2 = X.dot(theta1.T)\n",
    "    a2 = np.c_[np.ones([X.shape[0],1]),sigmoid(z2)]\n",
    "\n",
    "    z3 = a2.dot(theta2.T)\n",
    "    a3 = sigmoid(z3)\n",
    "    \n",
    "    p = np.argmax(a3,1) + 1    \n",
    "    return p"
   ]
  },
  {
   "cell_type": "code",
   "execution_count": 14,
   "metadata": {},
   "outputs": [],
   "source": [
    "predicted = predictNN(theta1,theta2,X)"
   ]
  },
  {
   "cell_type": "code",
   "execution_count": 15,
   "metadata": {},
   "outputs": [
    {
     "name": "stdout",
     "output_type": "stream",
     "text": [
      "NN accuracy:97.52\n"
     ]
    }
   ],
   "source": [
    "print('NN accuracy:{}'.format(np.mean(predicted==y.ravel())*100))"
   ]
  }
 ],
 "metadata": {
  "kernelspec": {
   "display_name": "Python 3",
   "language": "python",
   "name": "python3"
  },
  "language_info": {
   "codemirror_mode": {
    "name": "ipython",
    "version": 3
   },
   "file_extension": ".py",
   "mimetype": "text/x-python",
   "name": "python",
   "nbconvert_exporter": "python",
   "pygments_lexer": "ipython3",
   "version": "3.6.5"
  }
 },
 "nbformat": 4,
 "nbformat_minor": 2
}
