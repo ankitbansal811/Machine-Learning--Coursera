{
 "cells": [
  {
   "cell_type": "code",
   "execution_count": 1,
   "metadata": {},
   "outputs": [],
   "source": [
    "import numpy as np\n",
    "import pandas as pd\n",
    "import scipy.io\n",
    "import matplotlib.pyplot as plt\n",
    "import matplotlib.image as mpimg\n",
    "from scipy.optimize import minimize\n",
    "from scipy.optimize import fmin_cg\n",
    "from sklearn.linear_model import LogisticRegression\n",
    "\n",
    "mat = scipy.io.loadmat('ex4data1.mat')\n",
    "X = mat['X']\n",
    "y = mat['y']"
   ]
  },
  {
   "cell_type": "markdown",
   "metadata": {},
   "source": [
    "# Display Data"
   ]
  },
  {
   "cell_type": "code",
   "execution_count": 2,
   "metadata": {},
   "outputs": [
    {
     "data": {
      "text/plain": [
       "400"
      ]
     },
     "execution_count": 2,
     "metadata": {},
     "output_type": "execute_result"
    },
    {
     "data": {
      "image/png": "[encoded data removed]",
      "text/plain": [
       "<Figure size 144x144 with 1 Axes>"
      ]
     },
     "metadata": {},
     "output_type": "display_data"
    }
   ],
   "source": [
    "def displayData(x):\n",
    "    \n",
    "    if len(x.shape) ==1: num_image,pixels = 1, x.shape[0]\n",
    "    else:    num_image, pixels = x.shape[0], x.shape[1]\n",
    "    \n",
    "    pix_square = int(np.sqrt(pixels))\n",
    "    num_row = int(np.floor(np.sqrt(num_image)))\n",
    "    num_col = int(np.ceil(num_image/num_row))\n",
    "    \n",
    "    pad = 1;\n",
    "    img = formatPixels(x, num_row, num_col,pix_square,num_image)\n",
    "    plt.figure(figsize=(num_row,num_col))\n",
    "    plt.imshow(img,cmap = \"gray\");\n",
    "    plt.axis('off');\n",
    "    return pixels\n",
    "\n",
    "def formatPixels(x, num_row, num_col,pix_square,num_image):\n",
    "    pad =1;\n",
    "    pix_col = pad + num_col*(pix_square + pad);\n",
    "    pix_row = pad + num_row*(pix_square + pad);\n",
    "    num = 0;\n",
    "    img = -1*np.ones([pix_row,pix_col])\n",
    "    for i in range(num_row): \n",
    "        for j in range(num_col):\n",
    "            c = pad*(i+1) + i*pix_square\n",
    "            img[c:c+pix_square,(pad*(j+1) + j*pix_square)+np.arange(pix_square)] = x[num,:].reshape([pix_square,pix_square]).T\n",
    "            num += 1\n",
    "            if num>=num_image: break;\n",
    "    return img\n",
    "\n",
    "x = X[np.random.randint(y.size, size=4),:]\n",
    "displayData(x)"
   ]
  },
  {
   "cell_type": "markdown",
   "metadata": {},
   "source": [
    "### Load initialised weights"
   ]
  },
  {
   "cell_type": "code",
   "execution_count": 3,
   "metadata": {},
   "outputs": [],
   "source": [
    "mat = scipy.io.loadmat('ex4weights.mat')\n",
    "theta1 = mat['Theta1']\n",
    "theta2 = mat['Theta2']\n",
    "nn_para = np.r_[theta1.ravel(),theta2.ravel()].reshape([-1,1])\n",
    "input_layer_size = theta1.shape[1] - 1;\n",
    "hidden_layer_size = theta2.shape[1] - 1;\n",
    "num_labels = len(np.unique(y))"
   ]
  },
  {
   "cell_type": "markdown",
   "metadata": {},
   "source": [
    "### Cost Function"
   ]
  },
  {
   "cell_type": "code",
   "execution_count": 4,
   "metadata": {},
   "outputs": [],
   "source": [
    "def sigmoid(z):\n",
    "    return (1/(1+np.exp(-z)))\n",
    "\n",
    "def sigmoidGradient(z):\n",
    "    return(sigmoid(z)*(1-sigmoid(z)))\n",
    "\n",
    "def randInitializeWeights(input_layer, output_layer):\n",
    "    epsilon_init = 0.12;\n",
    "    rand = np.random.uniform(-epsilon_init,epsilon_init,[output_layer, input_layer+1])    \n",
    "    return rand\n",
    "\n",
    "def nnCost(nn_para,hidden_layer_size, X,y, reg):\n",
    "    m = y.size;\n",
    "    input_layer_size = X.shape[1]\n",
    "    \n",
    "    theta1 = nn_para[:hidden_layer_size*(input_layer_size+1)].reshape([hidden_layer_size, -1])\n",
    "    theta2 = nn_para[hidden_layer_size*(input_layer_size+1):].reshape([-1, hidden_layer_size+1])\n",
    "    \n",
    "    a1 = np.c_[np.ones([m,1]), X]\n",
    "    a2 = np.c_[np.ones([m,1]), sigmoid(a1.dot(theta1.T))]\n",
    "    a3 = sigmoid(a2.dot(theta2.T))\n",
    "    \n",
    "    # Theta to be used in regularization\n",
    "    regTheta1 = theta1[:,1:]\n",
    "    regTheta2 = theta2[:,1:]\n",
    "    \n",
    "    n_values = np.max(y)\n",
    "    y = np.eye(n_values)[y.flatten()-1]\n",
    "    \n",
    "    cost = -1/m*sum(sum(np.multiply(y,np.log(a3)) + np.multiply((1-y),np.log(1-a3))))\n",
    "    cost  = cost + reg/2/m* (np.sum(regTheta1**2)+ np.sum(regTheta2**2))\n",
    "    \n",
    "    return cost\n",
    "\n",
    "\n",
    "def BackPropogation(nn_para,hidden_layer_size, X,y, reg):\n",
    "    m = y.size;\n",
    "    input_layer_size = X.shape[1]\n",
    "    \n",
    "    theta1 = nn_para[:hidden_layer_size*(input_layer_size+1)].reshape([hidden_layer_size, -1])\n",
    "    theta2 = nn_para[hidden_layer_size*(input_layer_size+1):].reshape([-1, hidden_layer_size+1])\n",
    "    \n",
    "    a1 = np.c_[np.ones([m,1]), X]\n",
    "    a2 = np.c_[np.ones([m,1]), sigmoid(a1.dot(theta1.T))]\n",
    "    a3 = sigmoid(a2.dot(theta2.T))\n",
    "    \n",
    "    # Theta to be used in regularization\n",
    "    regTheta1 = theta1[:,1:]\n",
    "    regTheta2 = theta2[:,1:]\n",
    "    \n",
    "    n_values = np.max(y)\n",
    "    y = np.eye(n_values)[y.flatten()-1]\n",
    "   \n",
    "    del1 = np.zeros(theta1.shape)\n",
    "    del2 = np.zeros(theta2.shape)\n",
    "    \n",
    "    d3 = a3 - y;\n",
    "    del2 = d3.T.dot(a2);\n",
    "    \n",
    "    d2 = np.multiply(d3.dot(theta2), sigmoidGradient(np.c_[np.ones([m,1]), a1.dot(theta1.T)]))\n",
    "    del1 = d2[:,1:].T.dot(a1)\n",
    "    \n",
    "    theta1_grad = 1/m*del1 + reg/m * np.c_[np.zeros([regTheta1.shape[0],1]), regTheta1]\n",
    "    theta2_grad = 1/m*del2 + reg/m * np.c_[np.zeros([regTheta2.shape[0],1]), regTheta2]\n",
    "    \n",
    "    grad = np.r_[theta1_grad.ravel(),theta2_grad.ravel()]\n",
    "    return grad.flatten()"
   ]
  },
  {
   "cell_type": "code",
   "execution_count": 5,
   "metadata": {},
   "outputs": [
    {
     "data": {
      "text/plain": [
       "0.576051246950133"
      ]
     },
     "execution_count": 5,
     "metadata": {},
     "output_type": "execute_result"
    }
   ],
   "source": [
    "cost = nnCost(nn_para,hidden_layer_size, X,y,3)\n",
    "cost"
   ]
  },
  {
   "cell_type": "code",
   "execution_count": 6,
   "metadata": {},
   "outputs": [
    {
     "name": "stdout",
     "output_type": "stream",
     "text": [
      "Check on back propagation, error: [ 1.49471863  2.20378495  2.77840522  2.74646495  1.3745038   0.72774477\n",
      " -0.43610739 -0.36454917  1.32215183  1.1687813   0.57121052  2.84743173\n",
      "  1.58638036  2.47130162  0.05962553 -0.38384163  1.49673794  2.2801493\n",
      " -0.32240259  1.7405791  -9.90337608 -2.52288438 -3.93068664 -4.15485578\n",
      " -3.33872224 -3.6287236  -1.50065123 -0.40349032  0.22962639 -0.14798545\n",
      "  1.67789655  1.83214406 -1.14878917 -0.23818383 -1.04428281  0.39465553\n",
      "  0.90994773  1.5552909 ]\n"
     ]
    }
   ],
   "source": [
    "def numGradient(nn_para,hidden_layer_size, X,y,reg):\n",
    "    \n",
    "    grad_l = nn_para.size\n",
    "    perturb_vector = np.zeros([grad_l,1])\n",
    "    num_grad = np.zeros([grad_l,1])\n",
    "    e = 0.001;\n",
    "    for i in range(grad_l):\n",
    "        perturb_vector[i] = e\n",
    "        \n",
    "        perturbed_nn_para = nn_para + perturb_vector\n",
    "        loss1 = nnCost(perturbed_nn_para,hidden_layer_size,X,y,reg)\n",
    "        loss2 = nnCost(nn_para - perturb_vector,hidden_layer_size,X,y,reg)\n",
    "        \n",
    "        num_grad[i] = (loss1-loss2)/2/e\n",
    "        perturb_vector[i] = 0\n",
    "    return num_grad\n",
    "\n",
    "\n",
    "def checkNNGradients(reg):\n",
    "    input_layer_size = 3;\n",
    "    hidden_layer_size = 5;\n",
    "    num_labels = 3;\n",
    "    m = 5;\n",
    "\n",
    "    Theta1 = randInitializeWeights(input_layer_size,hidden_layer_size);\n",
    "    Theta2 = randInitializeWeights(hidden_layer_size,num_labels);\n",
    "    \n",
    "    X  = np.random.uniform(-1,1,[m, input_layer_size])\n",
    "    y  = np.array([2,3,1,2,3]);\n",
    "    \n",
    "    nn_para = np.r_[Theta1.ravel(), Theta2.ravel()].reshape([-1,1]);\n",
    "    grad = BackPropogation(nn_para,hidden_layer_size, X,y,reg)\n",
    "    numgrad = numGradient(nn_para,hidden_layer_size, X,y,reg)\n",
    "\n",
    "    #diff = norm(numgrad-grad)/norm(numgrad+grad);\n",
    "    \n",
    "    return sum(numgrad-grad)\n",
    "\n",
    "print('Check on back propagation, error:',checkNNGradients(2))"
   ]
  },
  {
   "cell_type": "code",
   "execution_count": 7,
   "metadata": {},
   "outputs": [],
   "source": [
    "initial_Theta1 = randInitializeWeights(input_layer_size, hidden_layer_size);\n",
    "initial_Theta2 = randInitializeWeights(hidden_layer_size, num_labels);\n",
    "\n",
    "initial_theta = np.r_[initial_Theta1.ravel(),initial_Theta2.ravel()].reshape([-1,1])"
   ]
  },
  {
   "cell_type": "code",
   "execution_count": 8,
   "metadata": {},
   "outputs": [
    {
     "name": "stdout",
     "output_type": "stream",
     "text": [
      "Warning: Maximum number of iterations has been exceeded.\n",
      "         Current function value: 0.261465\n",
      "         Iterations: 50\n",
      "         Function evaluations: 119\n",
      "         Gradient evaluations: 119\n"
     ]
    }
   ],
   "source": [
    "result = fmin_cg(nnCost, x0=initial_theta, fprime=BackPropogation, args=(hidden_layer_size,X,y,0),maxiter=50,disp=True,full_output=True)"
   ]
  },
  {
   "cell_type": "code",
   "execution_count": 9,
   "metadata": {},
   "outputs": [],
   "source": [
    "nn_para = np.array(result[0])\n",
    "theta1 = nn_para[:hidden_layer_size*(input_layer_size+1)].reshape([hidden_layer_size, -1])\n",
    "theta2 = nn_para[hidden_layer_size*(input_layer_size+1):].reshape([-1, hidden_layer_size+1])"
   ]
  },
  {
   "cell_type": "code",
   "execution_count": 10,
   "metadata": {},
   "outputs": [],
   "source": [
    "def predictNN(theta1, theta2, X):\n",
    "    m = X.shape[0]\n",
    "    a1 = np.c_[np.ones([m,1]), X]\n",
    "    a2 = np.c_[np.ones([m,1]), sigmoid(a1.dot(theta1.T))]\n",
    "    a3 = sigmoid(a2.dot(theta2.T))\n",
    "    \n",
    "    p = np.argmax(a3,1) + 1\n",
    "    return p"
   ]
  },
  {
   "cell_type": "code",
   "execution_count": 11,
   "metadata": {},
   "outputs": [
    {
     "name": "stdout",
     "output_type": "stream",
     "text": [
      "NN accuracy:96.92\n"
     ]
    }
   ],
   "source": [
    "predicted = predictNN(theta1,theta2,X)\n",
    "print('NN accuracy:{}'.format(np.mean(predicted==y.ravel())*100))"
   ]
  },
  {
   "cell_type": "code",
   "execution_count": 12,
   "metadata": {},
   "outputs": [],
   "source": [
    "#res = minimize(nnCost, initial_theta, args=(hidden_layer_size, X, y,0), method=None, jac=BackPropogation, options={'maxiter':5})"
   ]
  }
 ],
 "metadata": {
  "kernelspec": {
   "display_name": "Python 3",
   "language": "python",
   "name": "python3"
  },
  "language_info": {
   "codemirror_mode": {
    "name": "ipython",
    "version": 3
   },
   "file_extension": ".py",
   "mimetype": "text/x-python",
   "name": "python",
   "nbconvert_exporter": "python",
   "pygments_lexer": "ipython3",
   "version": "3.6.5"
  }
 },
 "nbformat": 4,
 "nbformat_minor": 2
}
